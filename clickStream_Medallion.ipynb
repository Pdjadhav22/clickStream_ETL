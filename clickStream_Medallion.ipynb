{
 "cells": [
  {
   "cell_type": "markdown",
   "metadata": {
    "application/vnd.databricks.v1+cell": {
     "cellMetadata": {},
     "inputWidgets": {},
     "nuid": "6dbd5e59-d04e-47cf-861c-305378c16a77",
     "showTitle": false,
     "title": ""
    }
   },
   "source": [
    "### Confugration"
   ]
  },
  {
   "cell_type": "code",
   "execution_count": 0,
   "metadata": {
    "application/vnd.databricks.v1+cell": {
     "cellMetadata": {
      "byteLimit": 2048000,
      "rowLimit": 10000
     },
     "inputWidgets": {},
     "nuid": "048252d4-54ab-4dd2-aa17-67aa98105353",
     "showTitle": false,
     "title": ""
    }
   },
   "outputs": [
    {
     "output_type": "stream",
     "name": "stdout",
     "output_type": "stream",
     "text": [
      "Directory Exists\n"
     ]
    }
   ],
   "source": [
    "# Source Location\n",
    "sourceLocation = \"dbfs:/clickStream/source\"\n",
    "try:\n",
    "    dbutils.fs.ls(sourceLocation)\n",
    "    print(\"Directory Exists\")\n",
    "except:\n",
    "    dbutils.fs.mkdirs(sourceLocation)\n",
    "\n"
   ]
  },
  {
   "cell_type": "code",
   "execution_count": 0,
   "metadata": {
    "application/vnd.databricks.v1+cell": {
     "cellMetadata": {
      "byteLimit": 2048000,
      "rowLimit": 10000
     },
     "inputWidgets": {},
     "nuid": "8b4345fc-7df6-4db8-9ab2-a3ada5c732e3",
     "showTitle": false,
     "title": ""
    }
   },
   "outputs": [
    {
     "output_type": "stream",
     "name": "stdout",
     "output_type": "stream",
     "text": [
      "Out[3]: True"
     ]
    }
   ],
   "source": [
    "# load files to source location\n",
    "dbutils.fs.cp('dbfs:/FileStore/clickStream/psDataset.txt',sourceLocation+'/psDataset.txt')"
   ]
  },
  {
   "cell_type": "markdown",
   "metadata": {
    "application/vnd.databricks.v1+cell": {
     "cellMetadata": {},
     "inputWidgets": {},
     "nuid": "b917e16e-e93e-4b9b-88f9-a3e7142382ef",
     "showTitle": false,
     "title": ""
    }
   },
   "source": [
    "### Bronze Layer"
   ]
  },
  {
   "cell_type": "code",
   "execution_count": 0,
   "metadata": {
    "application/vnd.databricks.v1+cell": {
     "cellMetadata": {
      "byteLimit": 2048000,
      "rowLimit": 10000
     },
     "inputWidgets": {},
     "nuid": "10be265b-4611-4f34-bae3-aadfff99f371",
     "showTitle": false,
     "title": ""
    },
    "colab": {
     "base_uri": "https://localhost:8080/"
    },
    "id": "0Dzusu6TCrM5",
    "outputId": "9a75be26-a9be-40cf-c969-6cad8232836c"
   },
   "outputs": [
    {
     "output_type": "stream",
     "name": "stdout",
     "output_type": "stream",
     "text": [
      "+------------------------+\n|_c0                     |\n+------------------------+\n|Given Dataset:          |\n|Timestamp\\t     User_id |\n|2021-05-01T11:00:00Z\\tu1|\n|2021-05-01T13:13:00Z\\tu1|\n|2021-05-01T15:00:00Z\\tu2|\n|2021-05-01T11:25:00Z\\tu1|\n|2021-05-01T11:50:00Z\\tu1|\n|2021-05-01T15:15:00Z\\tu2|\n|2021-05-01T02:13:00Z\\tu3|\n|2021-05-03T02:15:00Z\\tu4|\n|2021-05-02T11:45:00Z\\tu1|\n|2021-05-02T11:00:00Z\\tu3|\n|2021-05-03T12:15:00Z\\tu3|\n|2021-05-03T11:00:00Z\\tu4|\n|2021-05-03T21:00:00Z\\tu4|\n|2021-05-04T19:00:00Z\\tu2|\n|2021-05-04T09:00:00Z\\tu3|\n|2021-05-04T08:15:00Z\\tu1|\n+------------------------+\n\n"
     ]
    }
   ],
   "source": [
    "# Read Data into Data frame from source Location\n",
    "df = spark.read.csv(f'{sourceLocation}/*.txt')\n",
    "df.show(truncate=False)"
   ]
  },
  {
   "cell_type": "code",
   "execution_count": 0,
   "metadata": {
    "application/vnd.databricks.v1+cell": {
     "cellMetadata": {
      "byteLimit": 2048000,
      "rowLimit": 10000
     },
     "inputWidgets": {},
     "nuid": "117bae03-e490-4cc7-bfa2-16dd70f9b363",
     "showTitle": false,
     "title": ""
    },
    "colab": {
     "base_uri": "https://localhost:8080/"
    },
    "id": "2DrakhdRDQQy",
    "outputId": "8951d724-9a0e-461e-f8eb-55aafd88e524"
   },
   "outputs": [
    {
     "output_type": "stream",
     "name": "stdout",
     "output_type": "stream",
     "text": [
      "+--------------------+-------+\n|timeStamp           |User_id|\n+--------------------+-------+\n|2021-05-01T11:00:00Z|u1     |\n|2021-05-01T13:13:00Z|u1     |\n|2021-05-01T15:00:00Z|u2     |\n|2021-05-01T11:25:00Z|u1     |\n|2021-05-01T11:50:00Z|u1     |\n|2021-05-01T15:15:00Z|u2     |\n|2021-05-01T02:13:00Z|u3     |\n|2021-05-03T02:15:00Z|u4     |\n|2021-05-02T11:45:00Z|u1     |\n|2021-05-02T11:00:00Z|u3     |\n|2021-05-03T12:15:00Z|u3     |\n|2021-05-03T11:00:00Z|u4     |\n|2021-05-03T21:00:00Z|u4     |\n|2021-05-04T19:00:00Z|u2     |\n|2021-05-04T09:00:00Z|u3     |\n|2021-05-04T08:15:00Z|u1     |\n+--------------------+-------+\n\n"
     ]
    }
   ],
   "source": [
    "from pyspark.sql.functions import split,upper, monotonically_increasing_id,col\n",
    "dfWithHeader = df.withColumn('id',monotonically_increasing_id()).filter('id>1').select(col('_c0').alias('data'))\\\n",
    "                .withColumn('timeStamp',split('data','\\t')[0])\\\n",
    "                .withColumn('User_id',split('data','\\t')[1])\\\n",
    "                .drop('data')\n",
    "\n",
    "dfWithHeader.show(truncate=False)"
   ]
  },
  {
   "cell_type": "markdown",
   "metadata": {
    "application/vnd.databricks.v1+cell": {
     "cellMetadata": {},
     "inputWidgets": {},
     "nuid": "02dd4f7d-3d7c-4b45-a9f1-1ecad60b71fe",
     "showTitle": false,
     "title": ""
    }
   },
   "source": [
    "#### Loading data into Bronze Tables"
   ]
  },
  {
   "cell_type": "code",
   "execution_count": 0,
   "metadata": {
    "application/vnd.databricks.v1+cell": {
     "cellMetadata": {
      "byteLimit": 2048000,
      "implicitDf": true,
      "rowLimit": 10000
     },
     "inputWidgets": {},
     "nuid": "5e9104b7-a6e2-489d-8073-98324dc0bc4e",
     "showTitle": false,
     "title": ""
    }
   },
   "outputs": [
    {
     "output_type": "display_data",
     "data": {
      "text/html": [
       "<style scoped>\n",
       "  .table-result-container {\n",
       "    max-height: 300px;\n",
       "    overflow: auto;\n",
       "  }\n",
       "  table, th, td {\n",
       "    border: 1px solid black;\n",
       "    border-collapse: collapse;\n",
       "  }\n",
       "  th, td {\n",
       "    padding: 5px;\n",
       "  }\n",
       "  th {\n",
       "    text-align: left;\n",
       "  }\n",
       "</style><div class='table-result-container'><table class='table-result'><thead style='background-color: white'><tr></tr></thead><tbody></tbody></table></div>"
      ]
     },
     "metadata": {
      "application/vnd.databricks.v1+output": {
       "addedWidgets": {},
       "aggData": [],
       "aggError": "",
       "aggOverflow": false,
       "aggSchema": [],
       "aggSeriesLimitReached": false,
       "aggType": "",
       "arguments": {},
       "columnCustomDisplayInfos": {},
       "data": [],
       "datasetInfos": [],
       "dbfsResultPath": null,
       "isJsonSchema": true,
       "metadata": {},
       "overflow": false,
       "plotOptions": {
        "customPlotOptions": {},
        "displayType": "table",
        "pivotAggregation": null,
        "pivotColumns": null,
        "xColumns": null,
        "yColumns": null
       },
       "removedWidgets": [],
       "schema": [],
       "type": "table"
      }
     },
     "output_type": "display_data"
    }
   ],
   "source": [
    "%sql\n",
    "CREATE SCHEMA IF NOT EXISTS clickstream;\n",
    "USE clickstream"
   ]
  },
  {
   "cell_type": "code",
   "execution_count": 0,
   "metadata": {
    "application/vnd.databricks.v1+cell": {
     "cellMetadata": {
      "byteLimit": 2048000,
      "rowLimit": 10000
     },
     "inputWidgets": {},
     "nuid": "8474dfc1-19fc-41c0-b20f-ba5281142df3",
     "showTitle": false,
     "title": ""
    }
   },
   "outputs": [],
   "source": [
    "# Create Bronze Table\n",
    "\n",
    "dfWithHeader.write.format('delta').mode('append').saveAsTable('clickstream.bronze_Tabe')\n"
   ]
  },
  {
   "cell_type": "markdown",
   "metadata": {
    "application/vnd.databricks.v1+cell": {
     "cellMetadata": {},
     "inputWidgets": {},
     "nuid": "6bd5d8ad-a6c9-45ba-923e-a7e5dc6fa49d",
     "showTitle": false,
     "title": ""
    }
   },
   "source": [
    "### Silver Layer"
   ]
  },
  {
   "cell_type": "code",
   "execution_count": 0,
   "metadata": {
    "application/vnd.databricks.v1+cell": {
     "cellMetadata": {
      "byteLimit": 2048000,
      "rowLimit": 10000
     },
     "inputWidgets": {},
     "nuid": "089e7e2a-e27f-4a45-902e-c9193255598c",
     "showTitle": false,
     "title": ""
    }
   },
   "outputs": [
    {
     "output_type": "stream",
     "name": "stdout",
     "output_type": "stream",
     "text": [
      "+--------------------+-------+\n|           timeStamp|User_id|\n+--------------------+-------+\n|2021-05-01T11:00:00Z|     u1|\n|2021-05-01T13:13:00Z|     u1|\n|2021-05-01T15:00:00Z|     u2|\n|2021-05-01T11:25:00Z|     u1|\n|2021-05-01T11:50:00Z|     u1|\n|2021-05-01T15:15:00Z|     u2|\n|2021-05-01T02:13:00Z|     u3|\n|2021-05-03T02:15:00Z|     u4|\n|2021-05-02T11:45:00Z|     u1|\n|2021-05-02T11:00:00Z|     u3|\n|2021-05-03T12:15:00Z|     u3|\n|2021-05-03T11:00:00Z|     u4|\n|2021-05-03T21:00:00Z|     u4|\n|2021-05-04T19:00:00Z|     u2|\n|2021-05-04T09:00:00Z|     u3|\n|2021-05-04T08:15:00Z|     u1|\n+--------------------+-------+\n\n"
     ]
    }
   ],
   "source": [
    "# Read from Bronze Table\n",
    "dfBronze = spark.table('clickstream.bronze_tabe')\n",
    "dfBronze.show()"
   ]
  },
  {
   "cell_type": "code",
   "execution_count": 0,
   "metadata": {
    "application/vnd.databricks.v1+cell": {
     "cellMetadata": {
      "byteLimit": 2048000,
      "rowLimit": 10000
     },
     "inputWidgets": {},
     "nuid": "2fb4a99c-1ebc-410e-b407-f5ad2503647b",
     "showTitle": false,
     "title": ""
    },
    "colab": {
     "base_uri": "https://localhost:8080/"
    },
    "id": "f1soZw1CK7-E",
    "outputId": "042ed842-7ea1-4edc-f35f-23d226563865"
   },
   "outputs": [
    {
     "output_type": "stream",
     "name": "stdout",
     "output_type": "stream",
     "text": [
      "+--------------------+-------+-------------------+\n|           timeStamp|User_id|      timeStampCast|\n+--------------------+-------+-------------------+\n|2021-05-01T11:00:00Z|     u1|2021-05-01 11:00:00|\n|2021-05-01T13:13:00Z|     u1|2021-05-01 13:13:00|\n|2021-05-01T15:00:00Z|     u2|2021-05-01 15:00:00|\n|2021-05-01T11:25:00Z|     u1|2021-05-01 11:25:00|\n|2021-05-01T11:50:00Z|     u1|2021-05-01 11:50:00|\n|2021-05-01T15:15:00Z|     u2|2021-05-01 15:15:00|\n|2021-05-01T02:13:00Z|     u3|2021-05-01 02:13:00|\n|2021-05-03T02:15:00Z|     u4|2021-05-03 02:15:00|\n|2021-05-02T11:45:00Z|     u1|2021-05-02 11:45:00|\n|2021-05-02T11:00:00Z|     u3|2021-05-02 11:00:00|\n|2021-05-03T12:15:00Z|     u3|2021-05-03 12:15:00|\n|2021-05-03T11:00:00Z|     u4|2021-05-03 11:00:00|\n|2021-05-03T21:00:00Z|     u4|2021-05-03 21:00:00|\n|2021-05-04T19:00:00Z|     u2|2021-05-04 19:00:00|\n|2021-05-04T09:00:00Z|     u3|2021-05-04 09:00:00|\n|2021-05-04T08:15:00Z|     u1|2021-05-04 08:15:00|\n+--------------------+-------+-------------------+\n\n"
     ]
    }
   ],
   "source": [
    "# casting timestamp col\n",
    "import  pyspark.sql.functions as F\n",
    "dfCorrectDataType = dfBronze.withColumn('timeStampCast',F.to_timestamp(F.col('timeStamp'),\"yyyy-MM-dd'T'HH:mm:ss'Z'\"))\n",
    "dfCorrectDataType.show()"
   ]
  },
  {
   "cell_type": "code",
   "execution_count": 0,
   "metadata": {
    "application/vnd.databricks.v1+cell": {
     "cellMetadata": {
      "byteLimit": 2048000,
      "rowLimit": 10000
     },
     "inputWidgets": {},
     "nuid": "7416b386-8243-423a-87e2-afd2f4f96eac",
     "showTitle": false,
     "title": ""
    },
    "colab": {
     "base_uri": "https://localhost:8080/"
    },
    "id": "Qla9KPOWNN6Q",
    "outputId": "658c3def-36e3-4fb7-db42-663f747462e1"
   },
   "outputs": [
    {
     "output_type": "stream",
     "name": "stdout",
     "output_type": "stream",
     "text": [
      "+--------------------+-------+-------------------+\n|           timeStamp|User_id|      timeStampCast|\n+--------------------+-------+-------------------+\n|2021-05-01T11:00:00Z|     u1|2021-05-01 11:00:00|\n|2021-05-01T11:25:00Z|     u1|2021-05-01 11:25:00|\n|2021-05-01T11:50:00Z|     u1|2021-05-01 11:50:00|\n|2021-05-01T13:13:00Z|     u1|2021-05-01 13:13:00|\n|2021-05-02T11:45:00Z|     u1|2021-05-02 11:45:00|\n|2021-05-04T08:15:00Z|     u1|2021-05-04 08:15:00|\n|2021-05-01T15:00:00Z|     u2|2021-05-01 15:00:00|\n|2021-05-01T15:15:00Z|     u2|2021-05-01 15:15:00|\n|2021-05-04T19:00:00Z|     u2|2021-05-04 19:00:00|\n|2021-05-01T02:13:00Z|     u3|2021-05-01 02:13:00|\n|2021-05-02T11:00:00Z|     u3|2021-05-02 11:00:00|\n|2021-05-03T12:15:00Z|     u3|2021-05-03 12:15:00|\n|2021-05-04T09:00:00Z|     u3|2021-05-04 09:00:00|\n|2021-05-03T02:15:00Z|     u4|2021-05-03 02:15:00|\n|2021-05-03T11:00:00Z|     u4|2021-05-03 11:00:00|\n|2021-05-03T21:00:00Z|     u4|2021-05-03 21:00:00|\n+--------------------+-------+-------------------+\n\n"
     ]
    }
   ],
   "source": [
    "#reorder\n",
    "dfReOrdered = dfCorrectDataType.orderBy('User_id','timeStamp')\n",
    "dfReOrdered.show()"
   ]
  },
  {
   "cell_type": "code",
   "execution_count": 0,
   "metadata": {
    "application/vnd.databricks.v1+cell": {
     "cellMetadata": {
      "byteLimit": 2048000,
      "rowLimit": 10000
     },
     "inputWidgets": {},
     "nuid": "24086800-e7e2-4040-bbaf-5ff8b9ca1db5",
     "showTitle": false,
     "title": ""
    },
    "colab": {
     "base_uri": "https://localhost:8080/"
    },
    "id": "IskRgzvENQzB",
    "outputId": "e4bd5b01-f3f8-426e-cd53-51b0f2e86690"
   },
   "outputs": [
    {
     "output_type": "stream",
     "name": "stdout",
     "output_type": "stream",
     "text": [
      "+--------------------+-------+-------------------+-------------------+--------+\n|timeStamp           |User_id|timeStampCast      |lagTimeStamp       |timeDiff|\n+--------------------+-------+-------------------+-------------------+--------+\n|2021-05-01T11:00:00Z|u1     |2021-05-01 11:00:00|null               |0.0     |\n|2021-05-01T11:25:00Z|u1     |2021-05-01 11:25:00|2021-05-01 11:00:00|25.0    |\n|2021-05-01T11:50:00Z|u1     |2021-05-01 11:50:00|2021-05-01 11:25:00|25.0    |\n|2021-05-01T13:13:00Z|u1     |2021-05-01 13:13:00|2021-05-01 11:50:00|83.0    |\n|2021-05-02T11:45:00Z|u1     |2021-05-02 11:45:00|2021-05-01 13:13:00|1352.0  |\n|2021-05-04T08:15:00Z|u1     |2021-05-04 08:15:00|2021-05-02 11:45:00|2670.0  |\n|2021-05-01T15:00:00Z|u2     |2021-05-01 15:00:00|null               |0.0     |\n|2021-05-01T15:15:00Z|u2     |2021-05-01 15:15:00|2021-05-01 15:00:00|15.0    |\n|2021-05-04T19:00:00Z|u2     |2021-05-04 19:00:00|2021-05-01 15:15:00|4545.0  |\n|2021-05-01T02:13:00Z|u3     |2021-05-01 02:13:00|null               |0.0     |\n|2021-05-02T11:00:00Z|u3     |2021-05-02 11:00:00|2021-05-01 02:13:00|1967.0  |\n|2021-05-03T12:15:00Z|u3     |2021-05-03 12:15:00|2021-05-02 11:00:00|1515.0  |\n|2021-05-04T09:00:00Z|u3     |2021-05-04 09:00:00|2021-05-03 12:15:00|1245.0  |\n|2021-05-03T02:15:00Z|u4     |2021-05-03 02:15:00|null               |0.0     |\n|2021-05-03T11:00:00Z|u4     |2021-05-03 11:00:00|2021-05-03 02:15:00|525.0   |\n|2021-05-03T21:00:00Z|u4     |2021-05-03 21:00:00|2021-05-03 11:00:00|600.0   |\n+--------------------+-------+-------------------+-------------------+--------+\n\n"
     ]
    }
   ],
   "source": [
    "# add lag time stamp per user\n",
    "from pyspark.sql.window import Window\n",
    "from pyspark.sql.types import DoubleType, IntegerType\n",
    "w = Window.partitionBy('User_id').orderBy('timeStampCast')\n",
    "dfTimeDiff = dfReOrdered.withColumn('lagTimeStamp', F.lag('timeStampCast').over(w))\\\n",
    "            .withColumn('timeDiff',(F.unix_timestamp(col('timeStampCast'))-F.unix_timestamp(col('lagTimeStamp')))/60)\\\n",
    "            .fillna(0,subset=['timeDiff'])\n",
    "dfTimeDiff.show(truncate=False)"
   ]
  },
  {
   "cell_type": "code",
   "execution_count": 0,
   "metadata": {
    "application/vnd.databricks.v1+cell": {
     "cellMetadata": {
      "byteLimit": 2048000,
      "rowLimit": 10000
     },
     "inputWidgets": {},
     "nuid": "89f77855-1b52-4e02-b48a-731770584847",
     "showTitle": false,
     "title": ""
    },
    "colab": {
     "base_uri": "https://localhost:8080/"
    },
    "id": "Ulmlp_P_Uj-6",
    "outputId": "4fc0f8a4-17a5-47e1-9d0d-4e270ebc2617"
   },
   "outputs": [
    {
     "output_type": "stream",
     "name": "stdout",
     "output_type": "stream",
     "text": [
      "+--------------------+-------+-------------------+-------------------+--------+-----------+\n|           timeStamp|User_id|      timeStampCast|       lagTimeStamp|timeDiff|absTimeDiff|\n+--------------------+-------+-------------------+-------------------+--------+-----------+\n|2021-05-01T11:00:00Z|     u1|2021-05-01 11:00:00|               null|     0.0|        0.0|\n|2021-05-01T11:25:00Z|     u1|2021-05-01 11:25:00|2021-05-01 11:00:00|    25.0|       25.0|\n|2021-05-01T11:50:00Z|     u1|2021-05-01 11:50:00|2021-05-01 11:25:00|    25.0|       50.0|\n|2021-05-01T13:13:00Z|     u1|2021-05-01 13:13:00|2021-05-01 11:50:00|    83.0|      133.0|\n|2021-05-02T11:45:00Z|     u1|2021-05-02 11:45:00|2021-05-01 13:13:00|  1352.0|     1352.0|\n|2021-05-04T08:15:00Z|     u1|2021-05-04 08:15:00|2021-05-02 11:45:00|  2670.0|     2670.0|\n|2021-05-01T15:00:00Z|     u2|2021-05-01 15:00:00|               null|     0.0|        0.0|\n|2021-05-01T15:15:00Z|     u2|2021-05-01 15:15:00|2021-05-01 15:00:00|    15.0|       15.0|\n|2021-05-04T19:00:00Z|     u2|2021-05-04 19:00:00|2021-05-01 15:15:00|  4545.0|     4560.0|\n|2021-05-01T02:13:00Z|     u3|2021-05-01 02:13:00|               null|     0.0|        0.0|\n|2021-05-02T11:00:00Z|     u3|2021-05-02 11:00:00|2021-05-01 02:13:00|  1967.0|     1967.0|\n|2021-05-03T12:15:00Z|     u3|2021-05-03 12:15:00|2021-05-02 11:00:00|  1515.0|     1515.0|\n|2021-05-04T09:00:00Z|     u3|2021-05-04 09:00:00|2021-05-03 12:15:00|  1245.0|     1245.0|\n|2021-05-03T02:15:00Z|     u4|2021-05-03 02:15:00|               null|     0.0|        0.0|\n|2021-05-03T11:00:00Z|     u4|2021-05-03 11:00:00|2021-05-03 02:15:00|   525.0|      525.0|\n|2021-05-03T21:00:00Z|     u4|2021-05-03 21:00:00|2021-05-03 11:00:00|   600.0|      600.0|\n+--------------------+-------+-------------------+-------------------+--------+-----------+\n\n"
     ]
    }
   ],
   "source": [
    "from pyspark.sql.functions import col, when, lag, sum\n",
    "lagFun = lag('timeDiff').over(w)<=30\n",
    "sumFun = sum(col('timeDiff')).over(w)\n",
    "dfAbsTimeDiff =dfTimeDiff.withColumn('absTimeDiff',when(lagFun,sumFun).otherwise(col('timeDiff')))\n",
    "dfAbsTimeDiff.show()"
   ]
  },
  {
   "cell_type": "code",
   "execution_count": 0,
   "metadata": {
    "application/vnd.databricks.v1+cell": {
     "cellMetadata": {
      "byteLimit": 2048000,
      "rowLimit": 10000
     },
     "inputWidgets": {},
     "nuid": "117d3443-1e7e-472a-8ab1-2ec2089112c1",
     "showTitle": false,
     "title": ""
    },
    "colab": {
     "base_uri": "https://localhost:8080/"
    },
    "id": "ewRQSZpMSYJg",
    "outputId": "cf178818-0ceb-4395-cf9d-cdb723786ba1"
   },
   "outputs": [
    {
     "output_type": "stream",
     "name": "stdout",
     "output_type": "stream",
     "text": [
      "+--------------------+-------+-------------------+--------+----------+----------+\n|           timeStamp|User_id|      timeStampCast|timeDiff|       day|Session_id|\n+--------------------+-------+-------------------+--------+----------+----------+\n|2021-05-01T11:00:00Z|     u1|2021-05-01 11:00:00|     0.0|2021-05-01|     u1_s1|\n|2021-05-01T11:25:00Z|     u1|2021-05-01 11:25:00|    25.0|2021-05-01|     u1_s1|\n|2021-05-01T11:50:00Z|     u1|2021-05-01 11:50:00|    25.0|2021-05-01|     u1_s1|\n|2021-05-01T13:13:00Z|     u1|2021-05-01 13:13:00|    83.0|2021-05-01|     u1_s2|\n|2021-05-02T11:45:00Z|     u1|2021-05-02 11:45:00|  1352.0|2021-05-02|     u1_s3|\n|2021-05-04T08:15:00Z|     u1|2021-05-04 08:15:00|  2670.0|2021-05-04|     u1_s4|\n|2021-05-01T15:00:00Z|     u2|2021-05-01 15:00:00|     0.0|2021-05-01|     u2_s1|\n|2021-05-01T15:15:00Z|     u2|2021-05-01 15:15:00|    15.0|2021-05-01|     u2_s1|\n|2021-05-04T19:00:00Z|     u2|2021-05-04 19:00:00|  4545.0|2021-05-04|     u2_s2|\n|2021-05-01T02:13:00Z|     u3|2021-05-01 02:13:00|     0.0|2021-05-01|     u3_s1|\n|2021-05-02T11:00:00Z|     u3|2021-05-02 11:00:00|  1967.0|2021-05-02|     u3_s2|\n|2021-05-03T12:15:00Z|     u3|2021-05-03 12:15:00|  1515.0|2021-05-03|     u3_s3|\n|2021-05-04T09:00:00Z|     u3|2021-05-04 09:00:00|  1245.0|2021-05-04|     u3_s4|\n|2021-05-03T02:15:00Z|     u4|2021-05-03 02:15:00|     0.0|2021-05-03|     u4_s1|\n|2021-05-03T11:00:00Z|     u4|2021-05-03 11:00:00|   525.0|2021-05-03|     u4_s2|\n|2021-05-03T21:00:00Z|     u4|2021-05-03 21:00:00|   600.0|2021-05-03|     u4_s3|\n+--------------------+-------+-------------------+--------+----------+----------+\n\n"
     ]
    }
   ],
   "source": [
    "# identify session number\n",
    "\n",
    "dfSessions = dfAbsTimeDiff.withColumn('incrementNum',when((col('timeDiff')>30) | (col('absTimeDiff')>120),1).otherwise(0))\\\n",
    "                          .withColumn('cumNum',F.sum('incrementNum').over(w))\\\n",
    "                              .withColumn('day',F.to_date('timeStampCast'))\\\n",
    "                          .withColumn('Session_id',F.concat(col('User_id'),F.lit('_s'),col('cumNum')+1))\\\n",
    "                              .drop('incrementNum','cumNum','absTimeDiff','lagTimeStamp')\n",
    "dfSessions.show()"
   ]
  },
  {
   "cell_type": "code",
   "execution_count": 0,
   "metadata": {
    "application/vnd.databricks.v1+cell": {
     "cellMetadata": {
      "byteLimit": 2048000,
      "rowLimit": 10000
     },
     "inputWidgets": {},
     "nuid": "e1d068df-2d78-481e-8fc0-6b2360e4fe31",
     "showTitle": false,
     "title": ""
    }
   },
   "outputs": [],
   "source": [
    "# Loading/merging data into Silver Table\n",
    "silverLocation = \"dbfs:/user/hive/warehouse/clickstream.db/silver_table\"\n",
    "\n",
    "from delta.tables import DeltaTable\n",
    "if DeltaTable.isDeltaTable(spark,silverLocation):\n",
    "    #merge data into existing table\n",
    "    DeltaTable.forName(spark,'silver_table').alias('target').merge(\n",
    "        source=dfSessions.alias('source'),\n",
    "        condition=\"target.User_id=source.User_id and target.timeStamp=source.timeStamp\"\n",
    "    )\\\n",
    "        .whenNotMatchedInsertAll()\\\n",
    "        .execute()\n",
    "else:\n",
    "    #if not a delta table, create one & overwrite all data\n",
    "    dfSessions.write.format('delta').mode('overwrite').saveAsTable('silver_table')"
   ]
  },
  {
   "cell_type": "code",
   "execution_count": 0,
   "metadata": {
    "application/vnd.databricks.v1+cell": {
     "cellMetadata": {
      "byteLimit": 2048000,
      "implicitDf": true,
      "rowLimit": 10000
     },
     "inputWidgets": {},
     "nuid": "61fe3496-3ad7-405e-bdb1-a2f23c87883a",
     "showTitle": false,
     "title": ""
    }
   },
   "outputs": [
    {
     "output_type": "display_data",
     "data": {
      "text/html": [
       "<style scoped>\n",
       "  .table-result-container {\n",
       "    max-height: 300px;\n",
       "    overflow: auto;\n",
       "  }\n",
       "  table, th, td {\n",
       "    border: 1px solid black;\n",
       "    border-collapse: collapse;\n",
       "  }\n",
       "  th, td {\n",
       "    padding: 5px;\n",
       "  }\n",
       "  th {\n",
       "    text-align: left;\n",
       "  }\n",
       "</style><div class='table-result-container'><table class='table-result'><thead style='background-color: white'><tr><th>version</th><th>timestamp</th><th>userId</th><th>userName</th><th>operation</th><th>operationParameters</th><th>job</th><th>notebook</th><th>clusterId</th><th>readVersion</th><th>isolationLevel</th><th>isBlindAppend</th><th>operationMetrics</th><th>userMetadata</th><th>engineInfo</th></tr></thead><tbody><tr><td>2</td><td>2024-03-01T14:42:25.000+0000</td><td>3575659572783655</td><td>jadhavprem22@gmail.com</td><td>MERGE</td><td>Map(predicate -> [\"((User_id#5655 = User_id#878) AND (timeStamp#5654 = timeStamp#877))\"], matchedPredicates -> [], notMatchedPredicates -> [{\"actionType\":\"insert\"}], notMatchedBySourcePredicates -> [])</td><td>null</td><td>List(3150524556320814)</td><td>0301-132924-1r6htkhh</td><td>1</td><td>WriteSerializable</td><td>false</td><td>Map(numTargetRowsCopied -> 0, numTargetRowsDeleted -> 0, numTargetFilesAdded -> 0, numTargetBytesAdded -> 0, numTargetBytesRemoved -> 0, numTargetDeletionVectorsAdded -> 0, numTargetRowsMatchedUpdated -> 0, executionTimeMs -> 3422, numTargetRowsInserted -> 0, numTargetRowsMatchedDeleted -> 0, scanTimeMs -> 0, numTargetRowsUpdated -> 0, numOutputRows -> 0, numTargetDeletionVectorsRemoved -> 0, numTargetRowsNotMatchedBySourceUpdated -> 0, numTargetChangeFilesAdded -> 0, numSourceRows -> 16, numTargetFilesRemoved -> 0, numTargetRowsNotMatchedBySourceDeleted -> 0, rewriteTimeMs -> 3349)</td><td>null</td><td>Databricks-Runtime/12.2.x-scala2.12</td></tr><tr><td>1</td><td>2024-03-01T14:16:04.000+0000</td><td>3575659572783655</td><td>jadhavprem22@gmail.com</td><td>MERGE</td><td>Map(predicate -> [\"((User_id#3195 = User_id#878) AND (timeStamp#3194 = timeStamp#877))\"], matchedPredicates -> [], notMatchedPredicates -> [{\"actionType\":\"insert\"}], notMatchedBySourcePredicates -> [])</td><td>null</td><td>List(3150524556320814)</td><td>0301-132924-1r6htkhh</td><td>0</td><td>WriteSerializable</td><td>false</td><td>Map(numTargetRowsCopied -> 0, numTargetRowsDeleted -> 0, numTargetFilesAdded -> 0, numTargetBytesAdded -> 0, numTargetBytesRemoved -> 0, numTargetDeletionVectorsAdded -> 0, numTargetRowsMatchedUpdated -> 0, executionTimeMs -> 5211, numTargetRowsInserted -> 0, numTargetRowsMatchedDeleted -> 0, scanTimeMs -> 0, numTargetRowsUpdated -> 0, numOutputRows -> 0, numTargetDeletionVectorsRemoved -> 0, numTargetRowsNotMatchedBySourceUpdated -> 0, numTargetChangeFilesAdded -> 0, numSourceRows -> 16, numTargetFilesRemoved -> 0, numTargetRowsNotMatchedBySourceDeleted -> 0, rewriteTimeMs -> 5109)</td><td>null</td><td>Databricks-Runtime/12.2.x-scala2.12</td></tr><tr><td>0</td><td>2024-03-01T14:08:35.000+0000</td><td>3575659572783655</td><td>jadhavprem22@gmail.com</td><td>CREATE OR REPLACE TABLE AS SELECT</td><td>Map(isManaged -> true, description -> null, partitionBy -> [], properties -> {})</td><td>null</td><td>List(3150524556320814)</td><td>0301-132924-1r6htkhh</td><td>null</td><td>WriteSerializable</td><td>false</td><td>Map(numFiles -> 1, numOutputRows -> 16, numOutputBytes -> 2429)</td><td>null</td><td>Databricks-Runtime/12.2.x-scala2.12</td></tr></tbody></table></div>"
      ]
     },
     "metadata": {
      "application/vnd.databricks.v1+output": {
       "addedWidgets": {},
       "aggData": [],
       "aggError": "",
       "aggOverflow": false,
       "aggSchema": [],
       "aggSeriesLimitReached": false,
       "aggType": "",
       "arguments": {},
       "columnCustomDisplayInfos": {},
       "data": [
        [
         2,
         "2024-03-01T14:42:25.000+0000",
         "3575659572783655",
         "jadhavprem22@gmail.com",
         "MERGE",
         {
          "matchedPredicates": "[]",
          "notMatchedBySourcePredicates": "[]",
          "notMatchedPredicates": "[{\"actionType\":\"insert\"}]",
          "predicate": "[\"((User_id#5655 = User_id#878) AND (timeStamp#5654 = timeStamp#877))\"]"
         },
         null,
         [
          "3150524556320814"
         ],
         "0301-132924-1r6htkhh",
         1,
         "WriteSerializable",
         false,
         {
          "executionTimeMs": "3422",
          "numOutputRows": "0",
          "numSourceRows": "16",
          "numTargetBytesAdded": "0",
          "numTargetBytesRemoved": "0",
          "numTargetChangeFilesAdded": "0",
          "numTargetDeletionVectorsAdded": "0",
          "numTargetDeletionVectorsRemoved": "0",
          "numTargetFilesAdded": "0",
          "numTargetFilesRemoved": "0",
          "numTargetRowsCopied": "0",
          "numTargetRowsDeleted": "0",
          "numTargetRowsInserted": "0",
          "numTargetRowsMatchedDeleted": "0",
          "numTargetRowsMatchedUpdated": "0",
          "numTargetRowsNotMatchedBySourceDeleted": "0",
          "numTargetRowsNotMatchedBySourceUpdated": "0",
          "numTargetRowsUpdated": "0",
          "rewriteTimeMs": "3349",
          "scanTimeMs": "0"
         },
         null,
         "Databricks-Runtime/12.2.x-scala2.12"
        ],
        [
         1,
         "2024-03-01T14:16:04.000+0000",
         "3575659572783655",
         "jadhavprem22@gmail.com",
         "MERGE",
         {
          "matchedPredicates": "[]",
          "notMatchedBySourcePredicates": "[]",
          "notMatchedPredicates": "[{\"actionType\":\"insert\"}]",
          "predicate": "[\"((User_id#3195 = User_id#878) AND (timeStamp#3194 = timeStamp#877))\"]"
         },
         null,
         [
          "3150524556320814"
         ],
         "0301-132924-1r6htkhh",
         0,
         "WriteSerializable",
         false,
         {
          "executionTimeMs": "5211",
          "numOutputRows": "0",
          "numSourceRows": "16",
          "numTargetBytesAdded": "0",
          "numTargetBytesRemoved": "0",
          "numTargetChangeFilesAdded": "0",
          "numTargetDeletionVectorsAdded": "0",
          "numTargetDeletionVectorsRemoved": "0",
          "numTargetFilesAdded": "0",
          "numTargetFilesRemoved": "0",
          "numTargetRowsCopied": "0",
          "numTargetRowsDeleted": "0",
          "numTargetRowsInserted": "0",
          "numTargetRowsMatchedDeleted": "0",
          "numTargetRowsMatchedUpdated": "0",
          "numTargetRowsNotMatchedBySourceDeleted": "0",
          "numTargetRowsNotMatchedBySourceUpdated": "0",
          "numTargetRowsUpdated": "0",
          "rewriteTimeMs": "5109",
          "scanTimeMs": "0"
         },
         null,
         "Databricks-Runtime/12.2.x-scala2.12"
        ],
        [
         0,
         "2024-03-01T14:08:35.000+0000",
         "3575659572783655",
         "jadhavprem22@gmail.com",
         "CREATE OR REPLACE TABLE AS SELECT",
         {
          "description": null,
          "isManaged": "true",
          "partitionBy": "[]",
          "properties": "{}"
         },
         null,
         [
          "3150524556320814"
         ],
         "0301-132924-1r6htkhh",
         null,
         "WriteSerializable",
         false,
         {
          "numFiles": "1",
          "numOutputBytes": "2429",
          "numOutputRows": "16"
         },
         null,
         "Databricks-Runtime/12.2.x-scala2.12"
        ]
       ],
       "datasetInfos": [],
       "dbfsResultPath": null,
       "isJsonSchema": true,
       "metadata": {},
       "overflow": false,
       "plotOptions": {
        "customPlotOptions": {},
        "displayType": "table",
        "pivotAggregation": null,
        "pivotColumns": null,
        "xColumns": null,
        "yColumns": null
       },
       "removedWidgets": [],
       "schema": [
        {
         "metadata": "{}",
         "name": "version",
         "type": "\"long\""
        },
        {
         "metadata": "{}",
         "name": "timestamp",
         "type": "\"timestamp\""
        },
        {
         "metadata": "{}",
         "name": "userId",
         "type": "\"string\""
        },
        {
         "metadata": "{}",
         "name": "userName",
         "type": "\"string\""
        },
        {
         "metadata": "{}",
         "name": "operation",
         "type": "\"string\""
        },
        {
         "metadata": "{}",
         "name": "operationParameters",
         "type": "{\"type\":\"map\",\"keyType\":\"string\",\"valueType\":\"string\",\"valueContainsNull\":true}"
        },
        {
         "metadata": "{}",
         "name": "job",
         "type": "{\"type\":\"struct\",\"fields\":[{\"name\":\"jobId\",\"type\":\"string\",\"nullable\":true,\"metadata\":{}},{\"name\":\"jobName\",\"type\":\"string\",\"nullable\":true,\"metadata\":{}},{\"name\":\"jobRunId\",\"type\":\"string\",\"nullable\":true,\"metadata\":{}},{\"name\":\"runId\",\"type\":\"string\",\"nullable\":true,\"metadata\":{}},{\"name\":\"jobOwnerId\",\"type\":\"string\",\"nullable\":true,\"metadata\":{}},{\"name\":\"triggerType\",\"type\":\"string\",\"nullable\":true,\"metadata\":{}}]}"
        },
        {
         "metadata": "{}",
         "name": "notebook",
         "type": "{\"type\":\"struct\",\"fields\":[{\"name\":\"notebookId\",\"type\":\"string\",\"nullable\":true,\"metadata\":{}}]}"
        },
        {
         "metadata": "{}",
         "name": "clusterId",
         "type": "\"string\""
        },
        {
         "metadata": "{}",
         "name": "readVersion",
         "type": "\"long\""
        },
        {
         "metadata": "{}",
         "name": "isolationLevel",
         "type": "\"string\""
        },
        {
         "metadata": "{}",
         "name": "isBlindAppend",
         "type": "\"boolean\""
        },
        {
         "metadata": "{}",
         "name": "operationMetrics",
         "type": "{\"type\":\"map\",\"keyType\":\"string\",\"valueType\":\"string\",\"valueContainsNull\":true}"
        },
        {
         "metadata": "{}",
         "name": "userMetadata",
         "type": "\"string\""
        },
        {
         "metadata": "{}",
         "name": "engineInfo",
         "type": "\"string\""
        }
       ],
       "type": "table"
      }
     },
     "output_type": "display_data"
    }
   ],
   "source": [
    "%sql\n",
    "DESCRIBE HISTORY silver_table"
   ]
  },
  {
   "cell_type": "code",
   "execution_count": 0,
   "metadata": {
    "application/vnd.databricks.v1+cell": {
     "cellMetadata": {
      "byteLimit": 2048000,
      "rowLimit": 10000
     },
     "inputWidgets": {},
     "nuid": "fb6717c7-55ed-4b45-9513-2d612a4afbb9",
     "showTitle": false,
     "title": ""
    }
   },
   "outputs": [
    {
     "output_type": "display_data",
     "data": {
      "text/html": [
       "<style scoped>\n",
       "  .table-result-container {\n",
       "    max-height: 300px;\n",
       "    overflow: auto;\n",
       "  }\n",
       "  table, th, td {\n",
       "    border: 1px solid black;\n",
       "    border-collapse: collapse;\n",
       "  }\n",
       "  th, td {\n",
       "    padding: 5px;\n",
       "  }\n",
       "  th {\n",
       "    text-align: left;\n",
       "  }\n",
       "</style><div class='table-result-container'><table class='table-result'><thead style='background-color: white'><tr><th>path</th><th>name</th><th>size</th><th>modificationTime</th></tr></thead><tbody><tr><td>dbfs:/user/hive/warehouse/clickstream.db/silver_table/_delta_log/00000000000000000000.crc</td><td>00000000000000000000.crc</td><td>3118</td><td>1709302119000</td></tr><tr><td>dbfs:/user/hive/warehouse/clickstream.db/silver_table/_delta_log/00000000000000000000.json</td><td>00000000000000000000.json</td><td>2169</td><td>1709302115000</td></tr><tr><td>dbfs:/user/hive/warehouse/clickstream.db/silver_table/_delta_log/00000000000000000001.crc</td><td>00000000000000000001.crc</td><td>3118</td><td>1709302568000</td></tr><tr><td>dbfs:/user/hive/warehouse/clickstream.db/silver_table/_delta_log/00000000000000000001.json</td><td>00000000000000000001.json</td><td>1215</td><td>1709302564000</td></tr><tr><td>dbfs:/user/hive/warehouse/clickstream.db/silver_table/_delta_log/00000000000000000002.crc</td><td>00000000000000000002.crc</td><td>3118</td><td>1709304147000</td></tr><tr><td>dbfs:/user/hive/warehouse/clickstream.db/silver_table/_delta_log/00000000000000000002.json</td><td>00000000000000000002.json</td><td>1215</td><td>1709304145000</td></tr></tbody></table></div>"
      ]
     },
     "metadata": {
      "application/vnd.databricks.v1+output": {
       "addedWidgets": {},
       "aggData": [],
       "aggError": "",
       "aggOverflow": false,
       "aggSchema": [],
       "aggSeriesLimitReached": false,
       "aggType": "",
       "arguments": {},
       "columnCustomDisplayInfos": {},
       "data": [
        [
         "dbfs:/user/hive/warehouse/clickstream.db/silver_table/_delta_log/00000000000000000000.crc",
         "00000000000000000000.crc",
         3118,
         1709302119000
        ],
        [
         "dbfs:/user/hive/warehouse/clickstream.db/silver_table/_delta_log/00000000000000000000.json",
         "00000000000000000000.json",
         2169,
         1709302115000
        ],
        [
         "dbfs:/user/hive/warehouse/clickstream.db/silver_table/_delta_log/00000000000000000001.crc",
         "00000000000000000001.crc",
         3118,
         1709302568000
        ],
        [
         "dbfs:/user/hive/warehouse/clickstream.db/silver_table/_delta_log/00000000000000000001.json",
         "00000000000000000001.json",
         1215,
         1709302564000
        ],
        [
         "dbfs:/user/hive/warehouse/clickstream.db/silver_table/_delta_log/00000000000000000002.crc",
         "00000000000000000002.crc",
         3118,
         1709304147000
        ],
        [
         "dbfs:/user/hive/warehouse/clickstream.db/silver_table/_delta_log/00000000000000000002.json",
         "00000000000000000002.json",
         1215,
         1709304145000
        ]
       ],
       "datasetInfos": [],
       "dbfsResultPath": null,
       "isJsonSchema": true,
       "metadata": {
        "isDbfsCommandResult": false
       },
       "overflow": false,
       "plotOptions": {
        "customPlotOptions": {},
        "displayType": "table",
        "pivotAggregation": null,
        "pivotColumns": null,
        "xColumns": null,
        "yColumns": null
       },
       "removedWidgets": [],
       "schema": [
        {
         "metadata": "{}",
         "name": "path",
         "type": "\"string\""
        },
        {
         "metadata": "{}",
         "name": "name",
         "type": "\"string\""
        },
        {
         "metadata": "{}",
         "name": "size",
         "type": "\"long\""
        },
        {
         "metadata": "{}",
         "name": "modificationTime",
         "type": "\"long\""
        }
       ],
       "type": "table"
      }
     },
     "output_type": "display_data"
    }
   ],
   "source": [
    "%fs\n",
    "ls dbfs:/user/hive/warehouse/clickstream.db/silver_table/_delta_log"
   ]
  },
  {
   "cell_type": "code",
   "execution_count": 0,
   "metadata": {
    "application/vnd.databricks.v1+cell": {
     "cellMetadata": {
      "byteLimit": 2048000,
      "implicitDf": true,
      "rowLimit": 10000
     },
     "inputWidgets": {},
     "nuid": "c263dcb5-6ee2-4f1c-959c-213b02491aa9",
     "showTitle": false,
     "title": ""
    }
   },
   "outputs": [
    {
     "output_type": "display_data",
     "data": {
      "text/html": [
       "<style scoped>\n",
       "  .table-result-container {\n",
       "    max-height: 300px;\n",
       "    overflow: auto;\n",
       "  }\n",
       "  table, th, td {\n",
       "    border: 1px solid black;\n",
       "    border-collapse: collapse;\n",
       "  }\n",
       "  th, td {\n",
       "    padding: 5px;\n",
       "  }\n",
       "  th {\n",
       "    text-align: left;\n",
       "  }\n",
       "</style><div class='table-result-container'><table class='table-result'><thead style='background-color: white'><tr><th>timeStamp</th><th>User_id</th><th>timeStampCast</th><th>timeDiff</th><th>day</th><th>Session_id</th></tr></thead><tbody><tr><td>2021-05-01T11:00:00Z</td><td>u1</td><td>2021-05-01T11:00:00.000+0000</td><td>0.0</td><td>2021-05-01</td><td>u1_s1</td></tr><tr><td>2021-05-01T11:25:00Z</td><td>u1</td><td>2021-05-01T11:25:00.000+0000</td><td>25.0</td><td>2021-05-01</td><td>u1_s1</td></tr><tr><td>2021-05-01T11:50:00Z</td><td>u1</td><td>2021-05-01T11:50:00.000+0000</td><td>25.0</td><td>2021-05-01</td><td>u1_s1</td></tr><tr><td>2021-05-01T13:13:00Z</td><td>u1</td><td>2021-05-01T13:13:00.000+0000</td><td>83.0</td><td>2021-05-01</td><td>u1_s2</td></tr><tr><td>2021-05-02T11:45:00Z</td><td>u1</td><td>2021-05-02T11:45:00.000+0000</td><td>1352.0</td><td>2021-05-02</td><td>u1_s3</td></tr><tr><td>2021-05-04T08:15:00Z</td><td>u1</td><td>2021-05-04T08:15:00.000+0000</td><td>2670.0</td><td>2021-05-04</td><td>u1_s4</td></tr><tr><td>2021-05-01T15:00:00Z</td><td>u2</td><td>2021-05-01T15:00:00.000+0000</td><td>0.0</td><td>2021-05-01</td><td>u2_s1</td></tr><tr><td>2021-05-01T15:15:00Z</td><td>u2</td><td>2021-05-01T15:15:00.000+0000</td><td>15.0</td><td>2021-05-01</td><td>u2_s1</td></tr><tr><td>2021-05-04T19:00:00Z</td><td>u2</td><td>2021-05-04T19:00:00.000+0000</td><td>4545.0</td><td>2021-05-04</td><td>u2_s2</td></tr><tr><td>2021-05-01T02:13:00Z</td><td>u3</td><td>2021-05-01T02:13:00.000+0000</td><td>0.0</td><td>2021-05-01</td><td>u3_s1</td></tr></tbody></table></div>"
      ]
     },
     "metadata": {
      "application/vnd.databricks.v1+output": {
       "addedWidgets": {},
       "aggData": [],
       "aggError": "",
       "aggOverflow": false,
       "aggSchema": [],
       "aggSeriesLimitReached": false,
       "aggType": "",
       "arguments": {},
       "columnCustomDisplayInfos": {},
       "data": [
        [
         "2021-05-01T11:00:00Z",
         "u1",
         "2021-05-01T11:00:00.000+0000",
         0.0,
         "2021-05-01",
         "u1_s1"
        ],
        [
         "2021-05-01T11:25:00Z",
         "u1",
         "2021-05-01T11:25:00.000+0000",
         25.0,
         "2021-05-01",
         "u1_s1"
        ],
        [
         "2021-05-01T11:50:00Z",
         "u1",
         "2021-05-01T11:50:00.000+0000",
         25.0,
         "2021-05-01",
         "u1_s1"
        ],
        [
         "2021-05-01T13:13:00Z",
         "u1",
         "2021-05-01T13:13:00.000+0000",
         83.0,
         "2021-05-01",
         "u1_s2"
        ],
        [
         "2021-05-02T11:45:00Z",
         "u1",
         "2021-05-02T11:45:00.000+0000",
         1352.0,
         "2021-05-02",
         "u1_s3"
        ],
        [
         "2021-05-04T08:15:00Z",
         "u1",
         "2021-05-04T08:15:00.000+0000",
         2670.0,
         "2021-05-04",
         "u1_s4"
        ],
        [
         "2021-05-01T15:00:00Z",
         "u2",
         "2021-05-01T15:00:00.000+0000",
         0.0,
         "2021-05-01",
         "u2_s1"
        ],
        [
         "2021-05-01T15:15:00Z",
         "u2",
         "2021-05-01T15:15:00.000+0000",
         15.0,
         "2021-05-01",
         "u2_s1"
        ],
        [
         "2021-05-04T19:00:00Z",
         "u2",
         "2021-05-04T19:00:00.000+0000",
         4545.0,
         "2021-05-04",
         "u2_s2"
        ],
        [
         "2021-05-01T02:13:00Z",
         "u3",
         "2021-05-01T02:13:00.000+0000",
         0.0,
         "2021-05-01",
         "u3_s1"
        ]
       ],
       "datasetInfos": [],
       "dbfsResultPath": null,
       "isJsonSchema": true,
       "metadata": {},
       "overflow": false,
       "plotOptions": {
        "customPlotOptions": {},
        "displayType": "table",
        "pivotAggregation": null,
        "pivotColumns": null,
        "xColumns": null,
        "yColumns": null
       },
       "removedWidgets": [],
       "schema": [
        {
         "metadata": "{}",
         "name": "timeStamp",
         "type": "\"string\""
        },
        {
         "metadata": "{}",
         "name": "User_id",
         "type": "\"string\""
        },
        {
         "metadata": "{}",
         "name": "timeStampCast",
         "type": "\"timestamp\""
        },
        {
         "metadata": "{}",
         "name": "timeDiff",
         "type": "\"double\""
        },
        {
         "metadata": "{}",
         "name": "day",
         "type": "\"date\""
        },
        {
         "metadata": "{}",
         "name": "Session_id",
         "type": "\"string\""
        }
       ],
       "type": "table"
      }
     },
     "output_type": "display_data"
    }
   ],
   "source": [
    "%sql\n",
    "select * from clickstream.silver_table limit 10"
   ]
  },
  {
   "cell_type": "markdown",
   "metadata": {
    "application/vnd.databricks.v1+cell": {
     "cellMetadata": {},
     "inputWidgets": {},
     "nuid": "8afd32e8-21a1-4817-b980-e23f87e23e7d",
     "showTitle": false,
     "title": ""
    }
   },
   "source": [
    "### Gold Layer"
   ]
  },
  {
   "cell_type": "code",
   "execution_count": 0,
   "metadata": {
    "application/vnd.databricks.v1+cell": {
     "cellMetadata": {
      "byteLimit": 2048000,
      "rowLimit": 10000
     },
     "inputWidgets": {},
     "nuid": "916085eb-b135-4894-ab09-16e9c54b9971",
     "showTitle": false,
     "title": ""
    }
   },
   "outputs": [
    {
     "output_type": "stream",
     "name": "stdout",
     "output_type": "stream",
     "text": [
      "+--------------------+-------+-------------------+--------+----------+----------+\n|           timeStamp|User_id|      timeStampCast|timeDiff|       day|Session_id|\n+--------------------+-------+-------------------+--------+----------+----------+\n|2021-05-01T11:00:00Z|     u1|2021-05-01 11:00:00|     0.0|2021-05-01|     u1_s1|\n|2021-05-01T11:25:00Z|     u1|2021-05-01 11:25:00|    25.0|2021-05-01|     u1_s1|\n|2021-05-01T11:50:00Z|     u1|2021-05-01 11:50:00|    25.0|2021-05-01|     u1_s1|\n|2021-05-01T13:13:00Z|     u1|2021-05-01 13:13:00|    83.0|2021-05-01|     u1_s2|\n|2021-05-02T11:45:00Z|     u1|2021-05-02 11:45:00|  1352.0|2021-05-02|     u1_s3|\n|2021-05-04T08:15:00Z|     u1|2021-05-04 08:15:00|  2670.0|2021-05-04|     u1_s4|\n|2021-05-01T15:00:00Z|     u2|2021-05-01 15:00:00|     0.0|2021-05-01|     u2_s1|\n|2021-05-01T15:15:00Z|     u2|2021-05-01 15:15:00|    15.0|2021-05-01|     u2_s1|\n|2021-05-04T19:00:00Z|     u2|2021-05-04 19:00:00|  4545.0|2021-05-04|     u2_s2|\n|2021-05-01T02:13:00Z|     u3|2021-05-01 02:13:00|     0.0|2021-05-01|     u3_s1|\n|2021-05-02T11:00:00Z|     u3|2021-05-02 11:00:00|  1967.0|2021-05-02|     u3_s2|\n|2021-05-03T12:15:00Z|     u3|2021-05-03 12:15:00|  1515.0|2021-05-03|     u3_s3|\n|2021-05-04T09:00:00Z|     u3|2021-05-04 09:00:00|  1245.0|2021-05-04|     u3_s4|\n|2021-05-03T02:15:00Z|     u4|2021-05-03 02:15:00|     0.0|2021-05-03|     u4_s1|\n|2021-05-03T11:00:00Z|     u4|2021-05-03 11:00:00|   525.0|2021-05-03|     u4_s2|\n|2021-05-03T21:00:00Z|     u4|2021-05-03 21:00:00|   600.0|2021-05-03|     u4_s3|\n+--------------------+-------+-------------------+--------+----------+----------+\n\n"
     ]
    }
   ],
   "source": [
    "# read from silver table\n",
    "dfSilverTable = spark.table('clickstream.silver_table')\n",
    "dfSilverTable.show()"
   ]
  },
  {
   "cell_type": "markdown",
   "metadata": {
    "application/vnd.databricks.v1+cell": {
     "cellMetadata": {},
     "inputWidgets": {},
     "nuid": "7735e8a0-7264-48fe-8487-561b57d33756",
     "showTitle": false,
     "title": ""
    }
   },
   "source": [
    "#### Load/merge 3 Gold Tables"
   ]
  },
  {
   "cell_type": "code",
   "execution_count": 0,
   "metadata": {
    "application/vnd.databricks.v1+cell": {
     "cellMetadata": {
      "byteLimit": 2048000,
      "rowLimit": 10000
     },
     "inputWidgets": {},
     "nuid": "4d39f9b6-0141-48a6-b19b-bbeee53924a5",
     "showTitle": false,
     "title": ""
    },
    "colab": {
     "base_uri": "https://localhost:8080/"
    },
    "id": "so8KeRdHYlE2",
    "outputId": "c58cd9d0-7a5b-48b9-ce01-58838c57899c"
   },
   "outputs": [
    {
     "output_type": "stream",
     "name": "stdout",
     "output_type": "stream",
     "text": [
      "+--------------------+-------+----------+\n|           timeStamp|User_id|Session_id|\n+--------------------+-------+----------+\n|2021-05-01T11:00:00Z|     u1|     u1_s1|\n|2021-05-01T11:25:00Z|     u1|     u1_s1|\n|2021-05-01T11:50:00Z|     u1|     u1_s1|\n|2021-05-01T13:13:00Z|     u1|     u1_s2|\n|2021-05-02T11:45:00Z|     u1|     u1_s3|\n|2021-05-04T08:15:00Z|     u1|     u1_s4|\n|2021-05-01T15:00:00Z|     u2|     u2_s1|\n|2021-05-01T15:15:00Z|     u2|     u2_s1|\n|2021-05-04T19:00:00Z|     u2|     u2_s2|\n|2021-05-01T02:13:00Z|     u3|     u3_s1|\n|2021-05-02T11:00:00Z|     u3|     u3_s2|\n|2021-05-03T12:15:00Z|     u3|     u3_s3|\n|2021-05-04T09:00:00Z|     u3|     u3_s4|\n|2021-05-03T02:15:00Z|     u4|     u4_s1|\n|2021-05-03T11:00:00Z|     u4|     u4_s2|\n|2021-05-03T21:00:00Z|     u4|     u4_s3|\n+--------------------+-------+----------+\n\n"
     ]
    }
   ],
   "source": [
    "dfUserSession = dfSilverTable.select('timeStamp','User_id','Session_id')\n",
    "dfUserSession.show()"
   ]
  },
  {
   "cell_type": "code",
   "execution_count": 0,
   "metadata": {
    "application/vnd.databricks.v1+cell": {
     "cellMetadata": {
      "byteLimit": 2048000,
      "rowLimit": 10000
     },
     "inputWidgets": {},
     "nuid": "7ede007a-dc4e-43b6-ae22-21f7d3158e53",
     "showTitle": false,
     "title": ""
    }
   },
   "outputs": [],
   "source": [
    "# for user session detail table\n",
    "userSessionGoldLocation = \"dbfs:/user/hive/warehouse/clickstream.db/gold_all_clicks\"\n",
    "\n",
    "if DeltaTable.isDeltaTable(spark,userSessionGoldLocation):\n",
    "    DeltaTable.forName(spark,'gold_all_clicks').alias('t').merge(\n",
    "        source=dfUserSession.alias('s'),\n",
    "        condition=\"t.User_id=s.User_id and t.timestamp=s.timestamp\"\n",
    "    )\\\n",
    "    .whenNotMatchedInsertAll()\\\n",
    "    .execute()\n",
    "else:\n",
    "    dfUserSession.write.saveAsTable('gold_all_clicks')"
   ]
  },
  {
   "cell_type": "code",
   "execution_count": 0,
   "metadata": {
    "application/vnd.databricks.v1+cell": {
     "cellMetadata": {
      "byteLimit": 2048000,
      "rowLimit": 10000
     },
     "inputWidgets": {},
     "nuid": "bd427f71-473a-4a2d-9056-1214b2e38fc3",
     "showTitle": false,
     "title": ""
    },
    "colab": {
     "base_uri": "https://localhost:8080/"
    },
    "id": "GlwNcVVCsS0X",
    "outputId": "ba258ab8-476f-4f88-f970-5c0777ad15c2"
   },
   "outputs": [
    {
     "output_type": "stream",
     "name": "stdout",
     "output_type": "stream",
     "text": [
      "+----------+-------------+\n|       day|sessionCounts|\n+----------+-------------+\n|2021-05-01|            4|\n|2021-05-02|            2|\n|2021-05-03|            4|\n|2021-05-04|            3|\n+----------+-------------+\n\n"
     ]
    }
   ],
   "source": [
    "# Get Number of sessions generated for each day\n",
    "dfSessionEachDay = dfSilverTable.select('User_id','Session_id','timeStampCast','day')\\\n",
    "                            .dropDuplicates(['day','Session_id'])\\\n",
    "                            .groupBy('day').agg(F.count('Session_id').alias(\"sessionCounts\")).orderBy('day')\n",
    "dfSessionEachDay.show()"
   ]
  },
  {
   "cell_type": "code",
   "execution_count": 0,
   "metadata": {
    "application/vnd.databricks.v1+cell": {
     "cellMetadata": {
      "byteLimit": 2048000,
      "rowLimit": 10000
     },
     "inputWidgets": {},
     "nuid": "e0340512-598b-4b05-b9ce-b3f2e10af75e",
     "showTitle": false,
     "title": ""
    }
   },
   "outputs": [],
   "source": [
    "# for Daily Session counts\n",
    "dailySessionCounts = \"dbfs:/user/hive/warehouse/clickstream.db/gold_daily_session_counts\"\n",
    "if DeltaTable.isDeltaTable(spark,dailySessionCounts):\n",
    "    DeltaTable.forName(spark,'gold_daily_session_counts').alias('t').merge(\n",
    "        source= dfSessionEachDay.alias('s'),\n",
    "        condition= \"t.day=s.day\"\n",
    "    )\\\n",
    "    .whenNotMatchedInsertAll()\\\n",
    "    .execute()\n",
    "else:\n",
    "    print('no')\n",
    "    dfSessionEachDay.write.mode('overwrite').saveAsTable('gold_daily_session_counts')"
   ]
  },
  {
   "cell_type": "code",
   "execution_count": 0,
   "metadata": {
    "application/vnd.databricks.v1+cell": {
     "cellMetadata": {
      "byteLimit": 2048000,
      "rowLimit": 10000
     },
     "inputWidgets": {},
     "nuid": "f9e53456-e44a-43ee-95bc-141aed50e08e",
     "showTitle": false,
     "title": ""
    },
    "colab": {
     "base_uri": "https://localhost:8080/"
    },
    "id": "rHEvh4Rx8ZOH",
    "outputId": "332d389d-7c9a-441e-c16d-404b10fba298"
   },
   "outputs": [
    {
     "output_type": "stream",
     "name": "stdout",
     "output_type": "stream",
     "text": [
      "+-------+----------+---------------+\n|User_id|       day|Duration_minute|\n+-------+----------+---------------+\n|     u1|2021-05-01|          133.0|\n|     u1|2021-05-02|         1352.0|\n|     u1|2021-05-04|         2670.0|\n|     u2|2021-05-04|         4545.0|\n|     u2|2021-05-01|           15.0|\n|     u3|2021-05-01|            0.0|\n|     u3|2021-05-04|         1245.0|\n|     u3|2021-05-03|         1515.0|\n|     u3|2021-05-02|         1967.0|\n|     u4|2021-05-03|         1125.0|\n+-------+----------+---------------+\n\n"
     ]
    }
   ],
   "source": [
    "#Total time spent by a user in a day.\n",
    "dfUserTimeEachDay = dfSilverTable.select('User_id','Session_id','timeStampCast','timeDiff','day')\\\n",
    "                                .groupBy('User_id','day').agg(F.sum('timeDiff').alias('Duration_minute'))\\\n",
    "                                .orderBy('User_id')\n",
    "                            \n",
    "dfUserTimeEachDay.show()"
   ]
  },
  {
   "cell_type": "code",
   "execution_count": 0,
   "metadata": {
    "application/vnd.databricks.v1+cell": {
     "cellMetadata": {
      "byteLimit": 2048000,
      "rowLimit": 10000
     },
     "inputWidgets": {},
     "nuid": "a87b3f74-808c-4137-818a-6902d6b2d4ca",
     "showTitle": false,
     "title": ""
    }
   },
   "outputs": [],
   "source": [
    "# for user time spent daily\n",
    "userDailyTimeSpent = \"dbfs:/user/hive/warehouse/clickstream.db/gold_user_daily_time_spent\"\n",
    "\n",
    "if DeltaTable.isDeltaTable(spark,userDailyTimeSpent):\n",
    "    DeltaTable.forName(spark,userDailyTimeSpent).alias('t').merge(\n",
    "        source= dfUserTimeEachDay.alias('s'),\n",
    "        condition= \"t.User_id=s.User_id and t.day=s.day\"\n",
    "    )\\\n",
    "    .whenNotMatchedInsertAll()\\\n",
    "    .exceute()\n",
    "else:\n",
    "    dfUserTimeEachDay.write.mode('overwrite').saveAsTable('gold_user_daily_time_spent')"
   ]
  },
  {
   "cell_type": "code",
   "execution_count": 0,
   "metadata": {
    "application/vnd.databricks.v1+cell": {
     "cellMetadata": {
      "byteLimit": 2048000,
      "implicitDf": true,
      "rowLimit": 10000
     },
     "inputWidgets": {},
     "nuid": "a8adf234-1673-4edc-8f6f-3fe5367d1145",
     "showTitle": false,
     "title": ""
    }
   },
   "outputs": [
    {
     "output_type": "display_data",
     "data": {
      "text/html": [
       "<style scoped>\n",
       "  .table-result-container {\n",
       "    max-height: 300px;\n",
       "    overflow: auto;\n",
       "  }\n",
       "  table, th, td {\n",
       "    border: 1px solid black;\n",
       "    border-collapse: collapse;\n",
       "  }\n",
       "  th, td {\n",
       "    padding: 5px;\n",
       "  }\n",
       "  th {\n",
       "    text-align: left;\n",
       "  }\n",
       "</style><div class='table-result-container'><table class='table-result'><thead style='background-color: white'><tr><th>version</th><th>timestamp</th><th>userId</th><th>userName</th><th>operation</th><th>operationParameters</th><th>job</th><th>notebook</th><th>clusterId</th><th>readVersion</th><th>isolationLevel</th><th>isBlindAppend</th><th>operationMetrics</th><th>userMetadata</th><th>engineInfo</th></tr></thead><tbody><tr><td>0</td><td>2024-03-01T15:08:30.000+0000</td><td>3575659572783655</td><td>jadhavprem22@gmail.com</td><td>CREATE OR REPLACE TABLE AS SELECT</td><td>Map(isManaged -> true, description -> null, partitionBy -> [], properties -> {})</td><td>null</td><td>List(3150524556320814)</td><td>0301-132924-1r6htkhh</td><td>null</td><td>WriteSerializable</td><td>false</td><td>Map(numFiles -> 1, numOutputRows -> 10, numOutputBytes -> 1244)</td><td>null</td><td>Databricks-Runtime/12.2.x-scala2.12</td></tr></tbody></table></div>"
      ]
     },
     "metadata": {
      "application/vnd.databricks.v1+output": {
       "addedWidgets": {},
       "aggData": [],
       "aggError": "",
       "aggOverflow": false,
       "aggSchema": [],
       "aggSeriesLimitReached": false,
       "aggType": "",
       "arguments": {},
       "columnCustomDisplayInfos": {},
       "data": [
        [
         0,
         "2024-03-01T15:08:30.000+0000",
         "3575659572783655",
         "jadhavprem22@gmail.com",
         "CREATE OR REPLACE TABLE AS SELECT",
         {
          "description": null,
          "isManaged": "true",
          "partitionBy": "[]",
          "properties": "{}"
         },
         null,
         [
          "3150524556320814"
         ],
         "0301-132924-1r6htkhh",
         null,
         "WriteSerializable",
         false,
         {
          "numFiles": "1",
          "numOutputBytes": "1244",
          "numOutputRows": "10"
         },
         null,
         "Databricks-Runtime/12.2.x-scala2.12"
        ]
       ],
       "datasetInfos": [],
       "dbfsResultPath": null,
       "isJsonSchema": true,
       "metadata": {},
       "overflow": false,
       "plotOptions": {
        "customPlotOptions": {},
        "displayType": "table",
        "pivotAggregation": null,
        "pivotColumns": null,
        "xColumns": null,
        "yColumns": null
       },
       "removedWidgets": [],
       "schema": [
        {
         "metadata": "{}",
         "name": "version",
         "type": "\"long\""
        },
        {
         "metadata": "{}",
         "name": "timestamp",
         "type": "\"timestamp\""
        },
        {
         "metadata": "{}",
         "name": "userId",
         "type": "\"string\""
        },
        {
         "metadata": "{}",
         "name": "userName",
         "type": "\"string\""
        },
        {
         "metadata": "{}",
         "name": "operation",
         "type": "\"string\""
        },
        {
         "metadata": "{}",
         "name": "operationParameters",
         "type": "{\"type\":\"map\",\"keyType\":\"string\",\"valueType\":\"string\",\"valueContainsNull\":true}"
        },
        {
         "metadata": "{}",
         "name": "job",
         "type": "{\"type\":\"struct\",\"fields\":[{\"name\":\"jobId\",\"type\":\"string\",\"nullable\":true,\"metadata\":{}},{\"name\":\"jobName\",\"type\":\"string\",\"nullable\":true,\"metadata\":{}},{\"name\":\"jobRunId\",\"type\":\"string\",\"nullable\":true,\"metadata\":{}},{\"name\":\"runId\",\"type\":\"string\",\"nullable\":true,\"metadata\":{}},{\"name\":\"jobOwnerId\",\"type\":\"string\",\"nullable\":true,\"metadata\":{}},{\"name\":\"triggerType\",\"type\":\"string\",\"nullable\":true,\"metadata\":{}}]}"
        },
        {
         "metadata": "{}",
         "name": "notebook",
         "type": "{\"type\":\"struct\",\"fields\":[{\"name\":\"notebookId\",\"type\":\"string\",\"nullable\":true,\"metadata\":{}}]}"
        },
        {
         "metadata": "{}",
         "name": "clusterId",
         "type": "\"string\""
        },
        {
         "metadata": "{}",
         "name": "readVersion",
         "type": "\"long\""
        },
        {
         "metadata": "{}",
         "name": "isolationLevel",
         "type": "\"string\""
        },
        {
         "metadata": "{}",
         "name": "isBlindAppend",
         "type": "\"boolean\""
        },
        {
         "metadata": "{}",
         "name": "operationMetrics",
         "type": "{\"type\":\"map\",\"keyType\":\"string\",\"valueType\":\"string\",\"valueContainsNull\":true}"
        },
        {
         "metadata": "{}",
         "name": "userMetadata",
         "type": "\"string\""
        },
        {
         "metadata": "{}",
         "name": "engineInfo",
         "type": "\"string\""
        }
       ],
       "type": "table"
      }
     },
     "output_type": "display_data"
    }
   ],
   "source": [
    "%sql\n",
    "DESCRIBE HISTORY gold_user_daily_time_spent"
   ]
  },
  {
   "cell_type": "code",
   "execution_count": 0,
   "metadata": {
    "application/vnd.databricks.v1+cell": {
     "cellMetadata": {},
     "inputWidgets": {},
     "nuid": "a2198c34-0966-4bf6-b52f-58af52a0abd1",
     "showTitle": false,
     "title": ""
    }
   },
   "outputs": [],
   "source": []
  }
 ],
 "metadata": {
  "application/vnd.databricks.v1+notebook": {
   "dashboards": [],
   "language": "python",
   "notebookMetadata": {
    "mostRecentlyExecutedCommandWithImplicitDF": {
     "commandId": 2651416896915476,
     "dataframes": [
      "_sqldf"
     ]
    },
    "pythonIndentUnit": 4
   },
   "notebookName": "clickStream",
   "widgets": {}
  },
  "colab": {
   "collapsed_sections": [
    "tY7IohrKzBRL",
    "TSy_GU2OyXGd",
    "kfMwFA2Zyedg",
    "e37wAyJBzJCW",
    "hrVlz_oOUwHe",
    "sZvTIJ3AWQ_U",
    "prBNX_jfZSFK",
    "JeE2IdEBbhEs",
    "DR4Cp0hjh_hP",
    "LyfQXosgA17V",
    "_buE7ZExtsG4",
    "IzkomkRPC98e",
    "XyqiUYY7y2TY",
    "z-ID01ka2SPM",
    "zwRrFmGP4A1Q",
    "FN_u_XyFISNg",
    "LMu4Kp7_SLek",
    "tnbf8_N2og1d",
    "-z_CkQMvCgFX",
    "VM1UxsDsUqI5",
    "hZY9SgxbFGsl",
    "y65s7VEnERoq",
    "ec_PujyXsa_f",
    "bY8zrYS3ydS4",
    "q6u5740CFtEK",
    "GFKKX1HqW_f8",
    "wSAOPgLrUu5x",
    "aRQLOWxpqoGE",
    "6YRboiVfE5iq",
    "zFYu5uANkyYT",
    "5vLV89s6RHOk"
   ],
   "provenance": []
  },
  "kernelspec": {
   "display_name": "Python 3.9",
   "language": "python",
   "name": "python3"
  },
  "language_info": {
   "codemirror_mode": {
    "name": "ipython",
    "version": 3
   },
   "file_extension": ".py",
   "mimetype": "text/x-python",
   "name": "python",
   "nbconvert_exporter": "python",
   "pygments_lexer": "ipython3",
   "version": "3.8.5"
  }
 },
 "nbformat": 4,
 "nbformat_minor": 0
}
